{
 "cells": [
  {
   "cell_type": "code",
   "execution_count": null,
   "id": "53c7cc61",
   "metadata": {},
   "outputs": [],
   "source": [
    "\n",
    "import torch\n",
    "import torch.nn as nn\n",
    "import torch.optim as optim\n",
    "import segmentation_models_pytorch as smp\n",
    "from torch.utils.data import DataLoader\n",
    "from torchvision import transforms\n",
    "import albumentations as A\n",
    "from albumentations.pytorch import ToTensorV2\n",
    "import matplotlib.pyplot as plt\n",
    "import numpy as np\n",
    "from scipy.stats import ttest_ind, f_oneway\n",
    "from skimage.metrics import hausdorff_distance\n"
   ]
  },
  {
   "cell_type": "code",
   "execution_count": null,
   "id": "d2fe3ee2",
   "metadata": {},
   "outputs": [],
   "source": [
    "\n",
    "model = smp.Unet(\n",
    "    encoder_name=\"efficientnet-b7\",\n",
    "    encoder_weights=\"imagenet\",\n",
    "    in_channels=3,\n",
    "    classes=1\n",
    ")\n"
   ]
  },
  {
   "cell_type": "code",
   "execution_count": null,
   "id": "7aea2da1",
   "metadata": {},
   "outputs": [],
   "source": [
    "\n",
    "dtype = torch.float16 if torch.cuda.is_available() else torch.float32\n",
    "device = torch.device(\"cuda\" if torch.cuda.is_available() else \"cpu\")\n",
    "model.to(device, dtype=dtype)\n"
   ]
  },
  {
   "cell_type": "code",
   "execution_count": null,
   "id": "972fbe89",
   "metadata": {},
   "outputs": [],
   "source": [
    "\n",
    "criterion = smp.losses.DiceLoss(mode='binary') + nn.BCEWithLogitsLoss()\n",
    "optimizer = optim.AdamW(model.parameters(), lr=1e-4)\n",
    "scheduler = optim.lr_scheduler.ReduceLROnPlateau(optimizer, mode='min', patience=3)\n"
   ]
  },
  {
   "cell_type": "code",
   "execution_count": null,
   "id": "31a4bb65",
   "metadata": {},
   "outputs": [],
   "source": [
    "\n",
    "transform = A.Compose([\n",
    "    A.HorizontalFlip(p=0.5),\n",
    "    A.VerticalFlip(p=0.5),\n",
    "    A.RandomRotate90(p=0.5),\n",
    "    A.Normalize(mean=(0.485, 0.456, 0.406), std=(0.229, 0.224, 0.225)),\n",
    "    ToTensorV2()\n",
    "])\n"
   ]
  },
  {
   "cell_type": "code",
   "execution_count": null,
   "id": "fd43384d",
   "metadata": {},
   "outputs": [],
   "source": [
    "\n",
    "def predict(model, image):\n",
    "    model.eval()\n",
    "    with torch.no_grad():\n",
    "        image = transform(image=image)['image'].unsqueeze(0).to(device, dtype=dtype)\n",
    "        output = model(image)\n",
    "        return torch.sigmoid(output).cpu().numpy()\n"
   ]
  },
  {
   "cell_type": "code",
   "execution_count": null,
   "id": "e0e9f8a1",
   "metadata": {},
   "outputs": [],
   "source": [
    "\n",
    "def visualize_segmentation(image, mask, prediction):\n",
    "    fig, ax = plt.subplots(1, 3, figsize=(15, 5))\n",
    "    ax[0].imshow(image)\n",
    "    ax[0].set_title(\"Original Image\")\n",
    "    ax[1].imshow(mask, cmap='gray')\n",
    "    ax[1].set_title(\"Ground Truth Mask\")\n",
    "    ax[2].imshow(prediction, cmap='jet', alpha=0.6)\n",
    "    ax[2].set_title(\"Predicted Mask\")\n",
    "    plt.show()\n"
   ]
  },
  {
   "cell_type": "code",
   "execution_count": null,
   "id": "9eb67e2d",
   "metadata": {},
   "outputs": [],
   "source": [
    "\n",
    "def compute_statistics(predictions, ground_truths):\n",
    "    dice_scores = [2 * np.sum(p * g) / (np.sum(p) + np.sum(g) + 1e-7) for p, g in zip(predictions, ground_truths)]\n",
    "    hausdorff_distances = [hausdorff_distance(p, g) for p, g in zip(predictions, ground_truths)]\n",
    "    t_test = ttest_ind(dice_scores, hausdorff_distances)\n",
    "    anova = f_oneway(dice_scores, hausdorff_distances)\n",
    "    print(f\"Mean Dice Score: {np.mean(dice_scores):.4f}\")\n",
    "    print(f\"Mean Hausdorff Distance: {np.mean(hausdorff_distances):.4f}\")\n",
    "    print(f\"T-Test p-value: {t_test.pvalue:.4f}\")\n",
    "    print(f\"ANOVA p-value: {anova.pvalue:.4f}\")\n"
   ]
  },
  {
   "cell_type": "code",
   "execution_count": null,
   "id": "094ec066",
   "metadata": {},
   "outputs": [],
   "source": [
    "\n",
    "print(\"Model optimized with EfficientNetB7, visualization, and statistical analysis!\")\n"
   ]
  }
 ],
 "metadata": {},
 "nbformat": 4,
 "nbformat_minor": 5
}
