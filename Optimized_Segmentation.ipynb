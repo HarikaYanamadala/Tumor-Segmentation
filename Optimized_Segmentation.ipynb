{
 "cells": [
  {
   "cell_type": "markdown",
   "id": "f0510a9e",
   "metadata": {},
   "source": [
    "# Optimized Tumor Segmentation with EfficientNetB7"
   ]
  },
  {
   "cell_type": "code",
   "execution_count": null,
   "id": "8aceaf1d",
   "metadata": {},
   "outputs": [],
   "source": [
    "\n",
    "import torch\n",
    "import torch.nn as nn\n",
    "import torch.optim as optim\n",
    "import segmentation_models_pytorch as smp\n",
    "from torch.utils.data import DataLoader\n",
    "from torchvision import transforms\n",
    "import albumentations as A\n",
    "from albumentations.pytorch import ToTensorV2\n",
    "\n",
    "model = smp.Unet(\n",
    "    encoder_name=\"efficientnet-b7\",\n",
    "    encoder_weights=\"imagenet\",\n",
    "    in_channels=3,\n",
    "    classes=1\n",
    ")\n",
    "\n",
    "dtype = torch.float16 if torch.cuda.is_available() else torch.float32\n",
    "device = torch.device(\"cuda\" if torch.cuda.is_available() else \"cpu\")\n",
    "model.to(device, dtype=dtype)\n",
    "\n",
    "criterion = smp.losses.DiceLoss(mode='binary') + nn.BCEWithLogitsLoss()\n",
    "optimizer = optim.AdamW(model.parameters(), lr=1e-4)\n",
    "scheduler = optim.lr_scheduler.ReduceLROnPlateau(optimizer, mode='min', patience=3)\n",
    "\n",
    "transform = A.Compose([\n",
    "    A.HorizontalFlip(p=0.5),\n",
    "    A.VerticalFlip(p=0.5),\n",
    "    A.RandomRotate90(p=0.5),\n",
    "    A.Normalize(mean=(0.485, 0.456, 0.406), std=(0.229, 0.224, 0.225)),\n",
    "    ToTensorV2()\n",
    "])\n",
    "\n",
    "def predict(model, image):\n",
    "    model.eval()\n",
    "    with torch.no_grad():\n",
    "        image = transform(image=image)['image'].unsqueeze(0).to(device, dtype=dtype)\n",
    "        output = model(image)\n",
    "        return torch.sigmoid(output).cpu().numpy()\n",
    "\n",
    "print(\"Model optimized with EfficientNetB7 and mixed precision!\")\n"
   ]
  }
 ],
 "metadata": {},
 "nbformat": 4,
 "nbformat_minor": 5
}
